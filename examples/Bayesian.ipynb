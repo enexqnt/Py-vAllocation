{
 "cells": [
  {
   "cell_type": "code",
   "execution_count": 1,
   "id": "b2ffd8c4",
   "metadata": {},
   "outputs": [
    {
     "name": "stdout",
     "output_type": "stream",
     "text": [
      "Loaded  Index(['DBC', 'GLD', 'SPY', 'TLT'], dtype='object')\n"
     ]
    }
   ],
   "source": [
    "import pandas as pd\n",
    "import numpy as np\n",
    "import matplotlib.pyplot as plt\n",
    "from pyvallocation.views import BlackLittermanProcessor\n",
    "from pyvallocation.portfolioapi import AssetsDistribution, PortfolioWrapper\n",
    "from pyvallocation.utils.projection import  project_mean_covariance, log2simple\n",
    "\n",
    "# load daily close data for some ETFs\n",
    "df = pd.read_csv('../examples/ETF_prices.csv',index_col=0,parse_dates=True)\n",
    "print('Loaded ', df.columns)\n",
    "\n",
    "# resample to weekly frequency\n",
    "weekly_prices = df.resample('W').ffill()\n",
    "\n",
    "# compute compounded returns\n",
    "weekly_returns = np.log(weekly_prices).diff().dropna()\n",
    "\n",
    "# store the returns shape\n",
    "T, N = weekly_returns.shape\n",
    "\n",
    "# inputs/parameters\n",
    "ANNUALIZATION_FACTOR = 52\n",
    "HALF_LIFE = ANNUALIZATION_FACTOR * 10 # 10 years\n",
    "TARGET_RETURN = 0.07/ANNUALIZATION_FACTOR\n",
    "\n",
    "INVESTMENT_HORIZON = 26 # weeks ahead\n",
    "TARGET_RETURN_HORIZON = TARGET_RETURN*INVESTMENT_HORIZON"
   ]
  },
  {
   "cell_type": "code",
   "execution_count": 2,
   "id": "788ea63a",
   "metadata": {},
   "outputs": [],
   "source": [
    "def print_portfolio(name: str, weights: pd.Series, ret: float, risk: float, risk_measure: str):\n",
    "    \"\"\"Prints formatted portfolio details.\"\"\"\n",
    "    print(f\"\\n--- {name} ---\")\n",
    "    print(f\"  > Expected Return: {ret:.4f}\")\n",
    "    print(f\"  > {risk_measure}: {risk:.4f}\")\n",
    "    print(\"  > Weights:\")\n",
    "    print(weights.round(3).to_string())\n",
    "    print(\"-\" * 25)"
   ]
  },
  {
   "cell_type": "markdown",
   "id": "d9cd0a6c",
   "metadata": {},
   "source": [
    "## Estimate sample moments"
   ]
  },
  {
   "cell_type": "code",
   "execution_count": 3,
   "id": "2f4fe194",
   "metadata": {},
   "outputs": [
    {
     "name": "stderr",
     "output_type": "stream",
     "text": [
      "/Users/giuliocantadori/dev/Py-vAllocation/pyvallocation/moments.py:73: RuntimeWarning: divide by zero encountered in matmul\n",
      "  S = (X.T * p_arr) @ X\n",
      "/Users/giuliocantadori/dev/Py-vAllocation/pyvallocation/moments.py:73: RuntimeWarning: overflow encountered in matmul\n",
      "  S = (X.T * p_arr) @ X\n",
      "/Users/giuliocantadori/dev/Py-vAllocation/pyvallocation/moments.py:73: RuntimeWarning: invalid value encountered in matmul\n",
      "  S = (X.T * p_arr) @ X\n"
     ]
    }
   ],
   "source": [
    "from pyvallocation import moments, probabilities\n",
    "p = probabilities.generate_uniform_probabilities(T)\n",
    "mu, cov = moments.estimate_sample_moments(weekly_returns,p)\n",
    "\n",
    "# Apply Jorion's shirnkage\n",
    "mu_ = moments.shrink_mean_jorion(mu,cov,T)\n",
    "\n",
    "# Apply Ledoit&Wolf's shrinkage\n",
    "cov_ = moments.shrink_covariance_ledoit_wolf(weekly_returns,cov,target='identity')\n",
    "\n",
    "# Project the first two moments to horizon\n",
    "mu_hor, cov_hor = project_mean_covariance(mu_,cov_,INVESTMENT_HORIZON)\n",
    "\n",
    "# Convert in simple returns\n",
    "mu_hor_simple, cov_hor_simple = log2simple(mu_hor,cov_hor)"
   ]
  },
  {
   "cell_type": "markdown",
   "id": "5e431756",
   "metadata": {},
   "source": [
    "## MVO Portfolio"
   ]
  },
  {
   "cell_type": "code",
   "execution_count": 4,
   "id": "9fd8ab7e",
   "metadata": {},
   "outputs": [
    {
     "name": "stderr",
     "output_type": "stream",
     "text": [
      "[pyvallocation.portfolioapi - INFO] PortfolioWrapper initialized for 4 assets.\n",
      "[pyvallocation.portfolioapi - INFO] Setting constraints with parameters: {'long_only': True, 'total_weight': 1.0}\n",
      "[pyvallocation.portfolioapi - INFO] Successfully computed Mean-Variance frontier with 20 portfolios.\n"
     ]
    },
    {
     "name": "stdout",
     "output_type": "stream",
     "text": [
      "\n",
      "Computed a Mean-Variance frontier with 20 portfolios.\n",
      "Risk measure used: 'Volatility'\n",
      "\n",
      "--- MVO Portfolio with Minimum Return 0.035 ---\n",
      "  > Expected Return: 0.0359\n",
      "  > Volatility: 0.0664\n",
      "  > Weights:\n",
      "DBC    0.036\n",
      "GLD    0.223\n",
      "SPY    0.330\n",
      "TLT    0.411\n",
      "-------------------------\n"
     ]
    }
   ],
   "source": [
    "\n",
    "simple_hor_dist = AssetsDistribution(mu=mu_hor_simple,cov=cov_hor_simple)\n",
    "    \n",
    "# Step 2: Initialize the wrapper\n",
    "simple_wrapper = PortfolioWrapper(simple_hor_dist)\n",
    "\n",
    "# Step 3: Set constraints (long-only, fully invested)\n",
    "simple_wrapper.set_constraints({'long_only': True, 'total_weight': 1.0})\n",
    "\n",
    "# Step 4: Compute the efficient frontier\n",
    "simple_frontier = simple_wrapper.mean_variance_frontier(num_portfolios=20)\n",
    "\n",
    "print(f\"\\nComputed a Mean-Variance frontier with {simple_frontier.weights.shape[1]} portfolios.\")\n",
    "print(f\"Risk measure used: '{simple_frontier.risk_measure}'\")\n",
    "\n",
    "w_min_ret, r_min_ret, est_min_ret = simple_frontier.portfolio_at_return_target(TARGET_RETURN_HORIZON)\n",
    "print_portfolio(f\"MVO Portfolio with Minimum Return {TARGET_RETURN_HORIZON}\", w_min_ret, r_min_ret, est_min_ret, simple_frontier.risk_measure)"
   ]
  },
  {
   "cell_type": "markdown",
   "id": "60d9374a",
   "metadata": {},
   "source": [
    "## Black and Litterman"
   ]
  },
  {
   "cell_type": "code",
   "execution_count": 5,
   "id": "604222ab",
   "metadata": {},
   "outputs": [
    {
     "name": "stderr",
     "output_type": "stream",
     "text": [
      "[pyvallocation.portfolioapi - INFO] PortfolioWrapper initialized for 4 assets.\n",
      "[pyvallocation.portfolioapi - INFO] Setting constraints with parameters: {'long_only': True, 'total_weight': 1.0}\n"
     ]
    },
    {
     "name": "stdout",
     "output_type": "stream",
     "text": [
      "[BL] π source: prior_mean.\n",
      "[BL] Built P (1, 4), Q (1, 1).\n",
      "[BL] Ω from Idzorek confidences (base = Σ).\n",
      "[BL] Posterior mean and covariance computed.\n",
      "DBC    0.006164\n",
      "GLD    0.089540\n",
      "SPY    0.097284\n",
      "TLT    0.027575\n",
      "Name: mu, dtype: float64\n",
      "DBC   -0.033581\n",
      "GLD    0.063792\n",
      "SPY   -0.049997\n",
      "TLT    0.060012\n",
      "dtype: float64\n"
     ]
    },
    {
     "name": "stderr",
     "output_type": "stream",
     "text": [
      "[pyvallocation.portfolioapi - INFO] Successfully computed Mean-Variance frontier with 50 portfolios.\n"
     ]
    },
    {
     "name": "stdout",
     "output_type": "stream",
     "text": [
      "\n",
      "Computed a Mean-Variance frontier with 50 portfolios.\n",
      "Risk measure used: 'Volatility'\n"
     ]
    }
   ],
   "source": [
    "mu_bl, cov_bl = BlackLittermanProcessor(\n",
    "    prior_mean=mu_,\n",
    "    prior_cov=cov_,\n",
    "    mean_views={'SPY':-0.05/ANNUALIZATION_FACTOR},\n",
    "    view_confidences=1,\n",
    "    # tau=1,\n",
    "    idzorek_use_tau=False,\n",
    "    omega='idzorek',\n",
    "    verbose=True,\n",
    ").get_posterior()\n",
    "\n",
    "print(mu*ANNUALIZATION_FACTOR)\n",
    "print(mu_bl*ANNUALIZATION_FACTOR)\n",
    "mu_bl_hor,cov_bl_hor = log2simple(*project_mean_covariance(mu_bl,cov_bl,INVESTMENT_HORIZON))\n",
    "\n",
    "\n",
    "bl_hor_dist = AssetsDistribution(mu=mu_bl_hor,cov=cov_bl_hor)\n",
    "    \n",
    "# Step 2: Initialize the wrapper\n",
    "bl_wrapper = PortfolioWrapper(bl_hor_dist)\n",
    "\n",
    "# Step 3: Set constraints (long-only, fully invested)\n",
    "bl_wrapper.set_constraints({'long_only': True, 'total_weight': 1.0})\n",
    "\n",
    "# Step 4: Compute the efficient frontier\n",
    "bl_frontier = bl_wrapper.mean_variance_frontier(num_portfolios=50)\n",
    "\n",
    "print(f\"\\nComputed a Mean-Variance frontier with {bl_frontier.weights.shape[1]} portfolios.\")\n",
    "print(f\"Risk measure used: '{bl_frontier.risk_measure}'\")"
   ]
  },
  {
   "cell_type": "code",
   "execution_count": 6,
   "id": "c082b0bd",
   "metadata": {},
   "outputs": [
    {
     "name": "stdout",
     "output_type": "stream",
     "text": [
      "\n",
      "--- BL Portfolio with Minimum Risk ---\n",
      "  > Expected Return: 0.0153\n",
      "  > Volatility: 0.0636\n",
      "  > Weights:\n",
      "DBC    0.174\n",
      "GLD    0.094\n",
      "SPY    0.259\n",
      "TLT    0.472\n",
      "-------------------------\n"
     ]
    }
   ],
   "source": [
    "w_bl_min_risk, r_bl_min_risk, est_bl_min_risk = bl_frontier.get_min_risk_portfolio()\n",
    "print_portfolio(\"BL Portfolio with Minimum Risk\", w_bl_min_risk, r_bl_min_risk, est_bl_min_risk, bl_frontier.risk_measure)"
   ]
  },
  {
   "cell_type": "code",
   "execution_count": 7,
   "id": "74fd2349",
   "metadata": {},
   "outputs": [
    {
     "name": "stdout",
     "output_type": "stream",
     "text": [
      "\n",
      "--- BL Portfolio with Minimum Return 0.035 ---\n",
      "  > Expected Return: 0.0352\n",
      "  > Volatility: 0.0834\n",
      "  > Weights:\n",
      "DBC    0.000\n",
      "GLD    0.390\n",
      "SPY    0.046\n",
      "TLT    0.563\n",
      "-------------------------\n"
     ]
    }
   ],
   "source": [
    "w_bl_min_ret, r_bl_min_ret, est_bl_min_ret = bl_frontier.portfolio_at_return_target(TARGET_RETURN_HORIZON)\n",
    "print_portfolio(f\"BL Portfolio with Minimum Return {TARGET_RETURN_HORIZON}\", w_bl_min_ret, r_bl_min_ret, est_bl_min_ret, bl_frontier.risk_measure)"
   ]
  },
  {
   "cell_type": "markdown",
   "id": "27cc7744",
   "metadata": {},
   "source": [
    "## NIW posteriors"
   ]
  },
  {
   "cell_type": "code",
   "execution_count": 8,
   "id": "aaafef4b",
   "metadata": {},
   "outputs": [
    {
     "name": "stdout",
     "output_type": "stream",
     "text": [
      "0.0718484744295931\n"
     ]
    }
   ],
   "source": [
    "from pyvallocation.bayesian import NIWPosterior\n",
    "\n",
    "niw_updater = NIWPosterior(mu_bl_hor,cov_bl_hor,T/2,T/2)\n",
    "posterior_params= niw_updater.update(mu_hor_simple,cov_hor_simple,T)\n",
    "est_expected_return = posterior_params.mu1         # This is μ₁ from Meucci\n",
    "est_uncertainty_cov = posterior_params.sigma1     # This is Σ₁ from Meucci\n",
    "\n",
    "# For gamma-variant specific parameters:\n",
    "p_mu_conf = .9  # Example confidence level for mean uncertainty\n",
    "gamma_mu_val = niw_updater.cred_radius_mu(p_mu=p_mu_conf) # This is γμ\n",
    "print(gamma_mu_val)"
   ]
  },
  {
   "cell_type": "code",
   "execution_count": 9,
   "id": "d82b4b28",
   "metadata": {},
   "outputs": [
    {
     "name": "stdout",
     "output_type": "stream",
     "text": [
      "Sample mean projected at horizon:\n",
      " DBC    0.011410\n",
      "GLD    0.036095\n",
      "SPY    0.038387\n",
      "TLT    0.017749\n",
      "Name: mu, dtype: float64\n",
      "\n",
      "BL mean project at horizon\n",
      " DBC   -0.007170\n",
      "GLD    0.040366\n",
      "SPY   -0.016498\n",
      "TLT    0.035927\n",
      "dtype: float64\n",
      "\n",
      "NIW mean projected at horizon\n",
      " DBC    0.011504\n",
      "GLD    0.043031\n",
      "SPY    0.026407\n",
      "TLT    0.027352\n",
      "dtype: float64\n"
     ]
    }
   ],
   "source": [
    "print('Sample mean projected at horizon:\\n',mu_hor)\n",
    "print('\\nBL mean project at horizon\\n',mu_bl_hor)\n",
    "print('\\nNIW mean projected at horizon\\n', est_expected_return)"
   ]
  },
  {
   "cell_type": "markdown",
   "id": "e199960e",
   "metadata": {},
   "source": [
    "## Robust Optimization"
   ]
  },
  {
   "cell_type": "code",
   "execution_count": 10,
   "id": "ff1f5dec",
   "metadata": {},
   "outputs": [
    {
     "name": "stderr",
     "output_type": "stream",
     "text": [
      "[pyvallocation.portfolioapi - INFO] PortfolioWrapper initialized for 4 assets.\n",
      "[pyvallocation.portfolioapi - INFO] Setting constraints with parameters: {'long_only': True, 'total_weight': 1.0}\n",
      "[pyvallocation.portfolioapi - INFO] Computing robust λ-frontier. Assuming `dist.mu` is posterior mean (μ₁) and `dist.cov` is posterior scale matrix (Σ₁), used as uncertainty covariance (Σ').\n"
     ]
    },
    {
     "name": "stdout",
     "output_type": "stream",
     "text": [
      "\n",
      "--- Solving for the Robust λ-Frontier ---\n"
     ]
    },
    {
     "name": "stderr",
     "output_type": "stream",
     "text": [
      "[pyvallocation.portfolioapi - INFO] Successfully computed Robust λ-frontier with 30 portfolios.\n"
     ]
    },
    {
     "name": "stdout",
     "output_type": "stream",
     "text": [
      "\n",
      "Computed a Robust λ-frontier with 30 portfolios.\n",
      "Risk measure used: 'Estimation Risk (‖Σ'¹/²w‖₂)'\n",
      "\n",
      "--- Portfolio with Minimum Estimation Risk ---\n",
      "  > Expected Return: 0.0318\n",
      "  > Estimation Risk (‖Σ'¹/²w‖₂): 0.0642\n",
      "  > Weights:\n",
      "DBC    0.004\n",
      "GLD    0.307\n",
      "SPY    0.319\n",
      "TLT    0.370\n",
      "-------------------------\n",
      "\n",
      "--- BL Portfolio with Minimum Return 0.035 ---\n",
      "  > Expected Return: 0.0354\n",
      "  > Volatility: 0.0737\n",
      "  > Weights:\n",
      "DBC    0.000\n",
      "GLD    0.530\n",
      "SPY    0.268\n",
      "TLT    0.202\n",
      "-------------------------\n"
     ]
    }
   ],
   "source": [
    "# Step 1: Create distribution with posterior parameters\n",
    "robust_dist = AssetsDistribution(mu=est_expected_return, cov=est_uncertainty_cov)\n",
    "\n",
    "# Step 2: Initialize wrapper\n",
    "robust_wrapper = PortfolioWrapper(robust_dist)\n",
    "\n",
    "# Step 3: Set constraints\n",
    "robust_wrapper.set_constraints({'long_only': True, 'total_weight': 1.0})\n",
    "\n",
    "# --- 3a: Lambda-Frontier ---\n",
    "print(\"\\n--- Solving for the Robust λ-Frontier ---\")\n",
    "\n",
    "# Step 4a: Compute the λ-frontier\n",
    "# This frontier plots Nominal Return vs. Estimation Risk (‖Σ'¹/²w‖₂)\n",
    "lambda_frontier = robust_wrapper.robust_lambda_frontier(num_portfolios=30, max_lambda=1.0)\n",
    "\n",
    "print(f\"\\nComputed a Robust λ-frontier with {lambda_frontier.weights.shape[1]} portfolios.\")\n",
    "print(f\"Risk measure used: '{lambda_frontier.risk_measure}'\")\n",
    "\n",
    "# Step 5a: Analyze the λ-frontier\n",
    "# We can find the portfolio that minimizes estimation uncertainty\n",
    "w_min_est_risk, r_min_est_risk, est_risk_min = lambda_frontier.get_min_risk_portfolio()\n",
    "print_portfolio(\"Portfolio with Minimum Estimation Risk\", w_min_est_risk, r_min_est_risk, est_risk_min, lambda_frontier.risk_measure)\n",
    "\n",
    "w_lambda_min_ret, r_lambda_min_ret, est_lambda_min_ret = lambda_frontier.portfolio_at_return_target(TARGET_RETURN_HORIZON)\n",
    "print_portfolio(f\"BL Portfolio with Minimum Return {TARGET_RETURN_HORIZON}\",w_lambda_min_ret, r_lambda_min_ret, est_lambda_min_ret, bl_frontier.risk_measure)"
   ]
  },
  {
   "cell_type": "code",
   "execution_count": 11,
   "id": "a3f7767c",
   "metadata": {},
   "outputs": [
    {
     "name": "stderr",
     "output_type": "stream",
     "text": [
      "[pyvallocation.portfolioapi - INFO] Solving robust γ-portfolio. Assuming `dist.mu` is posterior mean (μ₁) and `dist.cov` is posterior scale matrix (Σ₁), used as uncertainty covariance (Σ').\n",
      "[pyvallocation.portfolioapi - INFO] Successfully solved robust γ-portfolio. Nominal Return: 0.0402, Estimation Risk: 0.1000\n"
     ]
    },
    {
     "name": "stdout",
     "output_type": "stream",
     "text": [
      "\n",
      "--- Solving for a single Robust γ-Portfolio ---\n",
      "\n",
      "--- Robust γ-Portfolio (γ_μ=0.0718484744295931, γ_σ²=0.010000000000000002) ---\n",
      "  > Expected Return: 0.0402\n",
      "  > Estimation Risk (‖Σ'¹/²w‖₂): 0.1000\n",
      "  > Weights:\n",
      "DBC    0.000\n",
      "GLD    0.831\n",
      "SPY    0.169\n",
      "TLT    0.000\n",
      "-------------------------\n"
     ]
    }
   ],
   "source": [
    "# --- 3b: Gamma-Portfolio ---\n",
    "print(\"\\n--- Solving for a single Robust γ-Portfolio ---\")\n",
    "\n",
    "gamma_sigma_sq_val = 0.1**2 # Squared upper bound on estimation risk\n",
    "\n",
    "# Step 4b: Solve for the single optimal portfolio\n",
    "w_gamma, r_gamma, est_risk_gamma = robust_wrapper.solve_robust_gamma_portfolio(\n",
    "    gamma_mu=gamma_mu_val, \n",
    "    gamma_sigma_sq=gamma_sigma_sq_val\n",
    ")\n",
    "\n",
    "print_portfolio(\n",
    "    f\"Robust γ-Portfolio (γ_μ={gamma_mu_val}, γ_σ²={gamma_sigma_sq_val})\",\n",
    "    w_gamma,\n",
    "    r_gamma,\n",
    "    est_risk_gamma,\n",
    "    \"Estimation Risk (‖Σ'¹/²w‖₂)\"\n",
    ")"
   ]
  }
 ],
 "metadata": {
  "kernelspec": {
   "display_name": ".venv",
   "language": "python",
   "name": "python3"
  },
  "language_info": {
   "codemirror_mode": {
    "name": "ipython",
    "version": 3
   },
   "file_extension": ".py",
   "mimetype": "text/x-python",
   "name": "python",
   "nbconvert_exporter": "python",
   "pygments_lexer": "ipython3",
   "version": "3.12.9"
  }
 },
 "nbformat": 4,
 "nbformat_minor": 5
}

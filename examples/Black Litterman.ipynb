{
 "cells": [
  {
   "cell_type": "code",
   "execution_count": 1,
   "id": "b2ffd8c4",
   "metadata": {},
   "outputs": [
    {
     "name": "stdout",
     "output_type": "stream",
     "text": [
      "Loaded  Index(['DBC', 'GLD', 'SPY', 'TLT'], dtype='object')\n"
     ]
    }
   ],
   "source": [
    "import pandas as pd\n",
    "import numpy as np\n",
    "import matplotlib.pyplot as plt\n",
    "from pyvallocation.views import BlackLittermanProcessor\n",
    "from pyvallocation.portfolioapi import AssetsDistribution, PortfolioWrapper\n",
    "from pyvallocation.utils.projection import convert_scenarios_compound_to_simple, project_mean_covariance, log2simple\n",
    "from pyvallocation import probabilities\n",
    "\n",
    "# load daily close data for some ETFs\n",
    "df = pd.read_csv('../examples/ETF_prices.csv',index_col=0,parse_dates=True)\n",
    "print('Loaded ', df.columns)\n",
    "\n",
    "# resample to weekly frequency\n",
    "weekly_prices = df.resample('W').ffill()\n",
    "\n",
    "# compute compounded returns\n",
    "weekly_returns = np.log(weekly_prices).diff().dropna()\n",
    "\n",
    "# store the returns shape\n",
    "T, N = weekly_returns.shape\n",
    "\n",
    "# inputs/parameters\n",
    "ANNUALIZATION_FACTOR = 52\n",
    "HALF_LIFE = ANNUALIZATION_FACTOR * 10 # 10 years\n",
    "TARGET_RETURN = 0.06/ANNUALIZATION_FACTOR\n",
    "\n",
    "INVESTMENT_HORIZON = 1 # weeks ahead\n",
    "TARGET_RETURN_HORIZON = TARGET_RETURN*INVESTMENT_HORIZON"
   ]
  },
  {
   "cell_type": "code",
   "execution_count": 2,
   "id": "2f4fe194",
   "metadata": {},
   "outputs": [
    {
     "name": "stderr",
     "output_type": "stream",
     "text": [
      "Setting default optimizer, call initialize_optimizer to customize it\n",
      "No custom constraints specified, using default ones\n"
     ]
    },
    {
     "data": {
      "application/vnd.microsoft.datawrangler.viewer.v0+json": {
       "columns": [
        {
         "name": "index",
         "rawType": "object",
         "type": "string"
        },
        {
         "name": "0",
         "rawType": "float64",
         "type": "float"
        }
       ],
       "ref": "3dde014c-db37-4249-9dd7-adca4716d838",
       "rows": [
        [
         "DBC",
         "0.168"
        ],
        [
         "GLD",
         "0.104"
        ],
        [
         "SPY",
         "0.237"
        ],
        [
         "TLT",
         "0.49"
        ]
       ],
       "shape": {
        "columns": 1,
        "rows": 4
       }
      },
      "text/plain": [
       "DBC    0.168\n",
       "GLD    0.104\n",
       "SPY    0.237\n",
       "TLT    0.490\n",
       "dtype: float64"
      ]
     },
     "execution_count": 2,
     "metadata": {},
     "output_type": "execute_result"
    }
   ],
   "source": [
    "from pyvallocation import moments, probabilities\n",
    "p = probabilities.generate_uniform_probabilities(T)\n",
    "mu, cov = moments.estimate_sample_moments(weekly_returns,p)\n",
    "\n",
    "mu_ = moments.shrink_mean_jorion(mu,cov,T)\n",
    "cov_ = moments.shrink_covariance_ledoit_wolf(weekly_returns,cov,target='identity')\n",
    "\n",
    "mu_hor, cov_hor = project_mean_covariance(mu_,cov_,INVESTMENT_HORIZON)\n",
    "\n",
    "mu_hor_simple, cov_hor_simple = log2simple(mu_hor,cov_hor)\n",
    "\n",
    "PortfolioWrapper(AssetsDistribution(mu=mu_hor_simple,cov=cov_hor_simple)).get_portfolios_return_constraint(TARGET_RETURN_HORIZON)[0].round(3)"
   ]
  },
  {
   "cell_type": "code",
   "execution_count": 3,
   "id": "604222ab",
   "metadata": {},
   "outputs": [
    {
     "name": "stderr",
     "output_type": "stream",
     "text": [
      "Setting default optimizer, call initialize_optimizer to customize it\n",
      "No custom constraints specified, using default ones\n"
     ]
    },
    {
     "name": "stdout",
     "output_type": "stream",
     "text": [
      "[BL] π source: prior_mean.\n",
      "[BL] Built P (1, 4), Q (1, 1).\n",
      "[BL] Ω from Idzorek confidences (base = τ Σ).\n",
      "[BL] Posterior mean and covariance computed.\n",
      "DBC    0.006164\n",
      "GLD    0.089540\n",
      "SPY    0.097284\n",
      "TLT    0.027575\n",
      "Name: mu, dtype: float64\n",
      "DBC   -0.033582\n",
      "GLD    0.063791\n",
      "SPY   -0.050000\n",
      "TLT    0.060013\n",
      "dtype: float64\n"
     ]
    },
    {
     "data": {
      "application/vnd.microsoft.datawrangler.viewer.v0+json": {
       "columns": [
        {
         "name": "index",
         "rawType": "object",
         "type": "string"
        },
        {
         "name": "0",
         "rawType": "float64",
         "type": "float"
        }
       ],
       "ref": "1c6f57ae-b5c0-4b4c-8546-38df954bb8ce",
       "rows": [
        [
         "DBC",
         "0.084"
        ],
        [
         "GLD",
         "0.249"
        ],
        [
         "SPY",
         "0.176"
        ],
        [
         "TLT",
         "0.491"
        ]
       ],
       "shape": {
        "columns": 1,
        "rows": 4
       }
      },
      "text/plain": [
       "DBC    0.084\n",
       "GLD    0.249\n",
       "SPY    0.176\n",
       "TLT    0.491\n",
       "dtype: float64"
      ]
     },
     "execution_count": 3,
     "metadata": {},
     "output_type": "execute_result"
    }
   ],
   "source": [
    "mu_bl, cov_bl = BlackLittermanProcessor(\n",
    "    prior_mean=mu_,\n",
    "    prior_cov=cov_,\n",
    "    mean_views={'SPY':-0.05/ANNUALIZATION_FACTOR},\n",
    "    view_confidences=1,\n",
    "    tau=1,\n",
    "    idzorek_use_tau=True,\n",
    "    omega='idzorek',\n",
    "    verbose=True,\n",
    ").get_posterior()\n",
    "\n",
    "print(mu*ANNUALIZATION_FACTOR)\n",
    "print(mu_bl*ANNUALIZATION_FACTOR)\n",
    "mu_bl_hor,cov_bl_hor = log2simple(*project_mean_covariance(mu_bl,cov_bl,INVESTMENT_HORIZON))\n",
    "\n",
    "PortfolioWrapper(AssetsDistribution(mu=mu_bl_hor,cov=cov_bl_hor)).get_portfolios_return_constraint(TARGET_RETURN_HORIZON)[0].round(3)"
   ]
  },
  {
   "cell_type": "code",
   "execution_count": 4,
   "id": "a16ad1db",
   "metadata": {},
   "outputs": [
    {
     "name": "stderr",
     "output_type": "stream",
     "text": [
      "No custom constraints specified, using default ones\n",
      "Computing scenarios from mu and cov, using distribution: Normal\n"
     ]
    },
    {
     "data": {
      "application/vnd.microsoft.datawrangler.viewer.v0+json": {
       "columns": [
        {
         "name": "index",
         "rawType": "object",
         "type": "string"
        },
        {
         "name": "0",
         "rawType": "float64",
         "type": "float"
        }
       ],
       "ref": "1c814520-7f3b-4545-ab1a-f5f545f4bc9d",
       "rows": [
        [
         "DBC",
         "0.0"
        ],
        [
         "GLD",
         "0.42"
        ],
        [
         "SPY",
         "0.256"
        ],
        [
         "TLT",
         "0.324"
        ]
       ],
       "shape": {
        "columns": 1,
        "rows": 4
       }
      },
      "text/plain": [
       "DBC    0.000\n",
       "GLD    0.420\n",
       "SPY    0.256\n",
       "TLT    0.324\n",
       "dtype: float64"
      ]
     },
     "execution_count": 4,
     "metadata": {},
     "output_type": "execute_result"
    }
   ],
   "source": [
    "pw = PortfolioWrapper(AssetsDistribution(mu=mu_bl_hor,cov=cov_bl_hor))\n",
    "pw.initialize_optimizer('CVaR',tcost_lambda=1,prev_weights=np.array([0,0,1,0]))\n",
    "pw.get_portfolios_return_constraint(TARGET_RETURN_HORIZON)[0].round(3)"
   ]
  }
 ],
 "metadata": {
  "kernelspec": {
   "display_name": ".venv",
   "language": "python",
   "name": "python3"
  },
  "language_info": {
   "codemirror_mode": {
    "name": "ipython",
    "version": 3
   },
   "file_extension": ".py",
   "mimetype": "text/x-python",
   "name": "python",
   "nbconvert_exporter": "python",
   "pygments_lexer": "ipython3",
   "version": "3.11.4"
  }
 },
 "nbformat": 4,
 "nbformat_minor": 5
}

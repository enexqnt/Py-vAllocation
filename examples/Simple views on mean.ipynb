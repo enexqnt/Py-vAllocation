{
 "cells": [
  {
   "cell_type": "code",
   "execution_count": 1,
   "id": "b2ffd8c4",
   "metadata": {},
   "outputs": [
    {
     "name": "stdout",
     "output_type": "stream",
     "text": [
      "Loaded  Index(['DBC', 'GLD', 'SPY', 'TLT'], dtype='object')\n"
     ]
    }
   ],
   "source": [
    "import pandas as pd\n",
    "import numpy as np\n",
    "import matplotlib.pyplot as plt\n",
    "from pyvallocation.views import FlexibleViewsProcessor, BlackLittermanProcessor\n",
    "from pyvallocation.portfolioapi import AssetsDistribution, PortfolioWrapper\n",
    "from pyvallocation import probabilities, moments\n",
    "\n",
    "# load daily close data for some ETFs\n",
    "df = pd.read_csv('../examples/ETF_prices.csv',index_col=0,parse_dates=True)\n",
    "print('Loaded ', df.columns)\n",
    "\n",
    "# resample to weekly frequency\n",
    "weekly_prices = df.resample('W').ffill()\n",
    "\n",
    "# compute compounded returns (assuming the weekly compounded returns are suitable risk drivers and they are equal to simple returns, we'll relax these assumptions later)\n",
    "weekly_returns = np.log(weekly_prices).diff().dropna()\n",
    "\n",
    "# store the returns shape\n",
    "T, N = weekly_returns.shape\n",
    "\n",
    "# inputs/parameters\n",
    "ANNUALIZATION_FACTOR = 52\n",
    "TARGET_RETURN = 0.06/ANNUALIZATION_FACTOR"
   ]
  },
  {
   "cell_type": "code",
   "execution_count": 3,
   "id": "f8b1ee72",
   "metadata": {},
   "outputs": [
    {
     "name": "stdout",
     "output_type": "stream",
     "text": [
      "Effective number of scenarios of probabilities with uniform dist: 1006.0000000000003\n"
     ]
    }
   ],
   "source": [
    "# generate uniform probabilities\n",
    "p_uniform = probabilities.generate_uniform_probabilities(T)\n",
    "print('Effective number of scenarios of probabilities with uniform dist:', probabilities.compute_effective_number_scenarios(p_uniform))\n",
    "\n",
    "# estimate mean and cov using the uniform prob.\n",
    "mu_uniform, cov_uniform = moments.estimate_sample_moments(weekly_returns,p_uniform)\n",
    "\n",
    "# apply shrinkage to mean and cov\n",
    "mu_uniform_jorion = moments.shrink_mean_jorion(mu_uniform,cov_uniform,T)\n",
    "cov_uniform_lw_cc = moments.shrink_covariance_ledoit_wolf(weekly_returns,cov_uniform,target='constant_correlation')"
   ]
  },
  {
   "cell_type": "code",
   "execution_count": 5,
   "id": "741810a9",
   "metadata": {},
   "outputs": [
    {
     "name": "stdout",
     "output_type": "stream",
     "text": [
      "[BL] π source: prior_mean.\n",
      "[BL] Built P (2, 4), Q (2, 1).\n",
      "[BL] Ω = τ·diag(P Σ Pᵀ).\n",
      "[BL] Posterior mean and covariance computed.\n"
     ]
    }
   ],
   "source": [
    "# Suppose we think S&P 500 will deliver 2% and GLD 5% annualized return\n",
    "mean_views_1 = {\"SPY\": 0.02/ANNUALIZATION_FACTOR, 'GLD':0.05/ANNUALIZATION_FACTOR}\n",
    "\n",
    "# black litterman\n",
    "bl = BlackLittermanProcessor(\n",
    "    prior_mean=mu_uniform_jorion,\n",
    "    prior_cov=cov_uniform_lw_cc,\n",
    "    mean_views=mean_views_1,\n",
    "    verbose=True\n",
    ")\n",
    "mu_bl, cov_bl = bl.get_posterior()\n",
    "\n",
    "# flexible views (in this case since we're using mean and cov as input, the class will generate simulated scenarios draw from normal distrubiton)\n",
    "fv = FlexibleViewsProcessor(\n",
    "    prior_mean=mu_uniform_jorion,\n",
    "    prior_cov=cov_uniform_lw_cc,\n",
    "    mean_views=mean_views_1,\n",
    ")\n",
    "mu_fv, cov_fv = fv.get_posterior()"
   ]
  },
  {
   "cell_type": "code",
   "execution_count": 8,
   "id": "563d398d",
   "metadata": {},
   "outputs": [
    {
     "name": "stderr",
     "output_type": "stream",
     "text": [
      "Setting default optimizer, call initialize_optimizer to customize it\n",
      "No custom constraints specified, using default ones\n",
      "Setting default optimizer, call initialize_optimizer to customize it\n",
      "No custom constraints specified, using default ones\n"
     ]
    },
    {
     "name": "stdout",
     "output_type": "stream",
     "text": [
      "\n",
      "BL weights: [DBC    1.211240e-09\n",
      "GLD    8.002724e-01\n",
      "SPY    1.997267e-01\n",
      "TLT    9.638037e-07\n",
      "dtype: float64] \n",
      "---\n",
      "\n",
      "FV weights: [DBC    3.185827e-08\n",
      "GLD    9.999997e-01\n",
      "SPY    4.886972e-08\n",
      "TLT    2.068196e-07\n",
      "dtype: float64] \n",
      "---\n",
      "\n"
     ]
    }
   ],
   "source": [
    "w_bl = PortfolioWrapper(AssetsDistribution(mu_bl,cov_bl)).get_portfolios_return_constraint(TARGET_RETURN)\n",
    "print('\\nBL weights:', w_bl, '\\n---\\n')\n",
    "w_fl = PortfolioWrapper(AssetsDistribution(mu_fv,cov_fv)).get_portfolios_return_constraint(TARGET_RETURN)\n",
    "print('FV weights:', w_fl, '\\n---\\n')"
   ]
  }
 ],
 "metadata": {
  "kernelspec": {
   "display_name": ".venv",
   "language": "python",
   "name": "python3"
  },
  "language_info": {
   "codemirror_mode": {
    "name": "ipython",
    "version": 3
   },
   "file_extension": ".py",
   "mimetype": "text/x-python",
   "name": "python",
   "nbconvert_exporter": "python",
   "pygments_lexer": "ipython3",
   "version": "3.12.9"
  }
 },
 "nbformat": 4,
 "nbformat_minor": 5
}

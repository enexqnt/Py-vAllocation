{
 "cells": [
  {
   "cell_type": "code",
   "execution_count": 1,
   "id": "b2ffd8c4",
   "metadata": {},
   "outputs": [
    {
     "name": "stdout",
     "output_type": "stream",
     "text": [
      "Loaded  Index(['DBC', 'GLD', 'SPY', 'TLT'], dtype='object')\n"
     ]
    }
   ],
   "source": [
    "import pandas as pd\n",
    "import numpy as np\n",
    "import matplotlib.pyplot as plt\n",
    "from pyvallocation.views import FlexibleViewsProcessor, BlackLittermanProcessor\n",
    "from pyvallocation.portfolioapi import AssetsDistribution, PortfolioWrapper\n",
    "from pyvallocation import probabilities, moments\n",
    "\n",
    "# load daily close data for some ETFs\n",
    "df = pd.read_csv('../examples/ETF_prices.csv',index_col=0,parse_dates=True)\n",
    "print('Loaded ', df.columns)\n",
    "\n",
    "# resample to weekly frequency\n",
    "weekly_prices = df.resample('W').ffill()\n",
    "\n",
    "# compute compounded returns (assuming the weekly compounded returns are suitable risk drivers and they are equal to simple returns, we'll relax these assumptions later)\n",
    "weekly_returns = np.log(weekly_prices).diff().dropna()\n",
    "\n",
    "# store the returns shape\n",
    "T, N = weekly_returns.shape\n",
    "\n",
    "# inputs/parameters\n",
    "ANNUALIZATION_FACTOR = 52\n",
    "TARGET_RETURN = 0.05/ANNUALIZATION_FACTOR"
   ]
  },
  {
   "cell_type": "code",
   "execution_count": 2,
   "id": "f8b1ee72",
   "metadata": {},
   "outputs": [
    {
     "name": "stdout",
     "output_type": "stream",
     "text": [
      "Effective number of scenarios of probabilities with uniform dist: 1006.0000000000003\n"
     ]
    },
    {
     "name": "stderr",
     "output_type": "stream",
     "text": [
      "/Users/giuliocantadori/dev/Py-vAllocation/pyvallocation/moments.py:98: RuntimeWarning: divide by zero encountered in matmul\n",
      "  S = (X.T * p_arr) @ X\n",
      "/Users/giuliocantadori/dev/Py-vAllocation/pyvallocation/moments.py:98: RuntimeWarning: overflow encountered in matmul\n",
      "  S = (X.T * p_arr) @ X\n",
      "/Users/giuliocantadori/dev/Py-vAllocation/pyvallocation/moments.py:98: RuntimeWarning: invalid value encountered in matmul\n",
      "  S = (X.T * p_arr) @ X\n"
     ]
    }
   ],
   "source": [
    "# generate uniform probabilities\n",
    "p_uniform = probabilities.generate_uniform_probabilities(T)\n",
    "print('Effective number of scenarios of probabilities with uniform dist:', probabilities.compute_effective_number_scenarios(p_uniform))\n",
    "\n",
    "# estimate mean and cov using the uniform prob.\n",
    "mu_uniform, cov_uniform = moments.estimate_sample_moments(weekly_returns,p_uniform)\n",
    "\n",
    "# apply shrinkage to mean and cov\n",
    "mu_uniform_jorion = moments.shrink_mean_jorion(mu_uniform,cov_uniform,T)\n",
    "cov_uniform_lw_cc = moments.shrink_covariance_ledoit_wolf(weekly_returns,cov_uniform,target='constant_correlation')"
   ]
  },
  {
   "cell_type": "code",
   "execution_count": 3,
   "id": "741810a9",
   "metadata": {},
   "outputs": [
    {
     "name": "stdout",
     "output_type": "stream",
     "text": [
      "[BL] π source: prior_mean.\n",
      "[BL] Built P (2, 4), Q (2, 1).\n",
      "[BL] Ω = τ·diag(P Σ Pᵀ).\n",
      "[BL] Posterior mean and covariance computed.\n"
     ]
    },
    {
     "name": "stderr",
     "output_type": "stream",
     "text": [
      "/Users/giuliocantadori/dev/Py-vAllocation/pyvallocation/views.py:189: RuntimeWarning: divide by zero encountered in matmul\n",
      "  R = rng.multivariate_normal(mu, cov, size=num_scenarios)\n",
      "/Users/giuliocantadori/dev/Py-vAllocation/pyvallocation/views.py:189: RuntimeWarning: overflow encountered in matmul\n",
      "  R = rng.multivariate_normal(mu, cov, size=num_scenarios)\n",
      "/Users/giuliocantadori/dev/Py-vAllocation/pyvallocation/views.py:189: RuntimeWarning: invalid value encountered in matmul\n",
      "  R = rng.multivariate_normal(mu, cov, size=num_scenarios)\n",
      "/Users/giuliocantadori/dev/Py-vAllocation/pyvallocation/views.py:68: OptimizeWarning: Unknown solver options: maxiter\n",
      "  solution = minimize(\n",
      "/Users/giuliocantadori/dev/Py-vAllocation/pyvallocation/views.py:21: RuntimeWarning: divide by zero encountered in matmul\n",
      "  x = np.exp(log_p_col - 1.0 - lhs.T @ lagrange_multipliers_col)\n",
      "/Users/giuliocantadori/dev/Py-vAllocation/pyvallocation/views.py:21: RuntimeWarning: overflow encountered in matmul\n",
      "  x = np.exp(log_p_col - 1.0 - lhs.T @ lagrange_multipliers_col)\n",
      "/Users/giuliocantadori/dev/Py-vAllocation/pyvallocation/views.py:21: RuntimeWarning: invalid value encountered in matmul\n",
      "  x = np.exp(log_p_col - 1.0 - lhs.T @ lagrange_multipliers_col)\n",
      "/Users/giuliocantadori/dev/Py-vAllocation/pyvallocation/views.py:81: RuntimeWarning: divide by zero encountered in matmul\n",
      "  log_p_col - 1.0 - current_lhs.T @ optimal_lagrange_multipliers_col\n",
      "/Users/giuliocantadori/dev/Py-vAllocation/pyvallocation/views.py:81: RuntimeWarning: overflow encountered in matmul\n",
      "  log_p_col - 1.0 - current_lhs.T @ optimal_lagrange_multipliers_col\n",
      "/Users/giuliocantadori/dev/Py-vAllocation/pyvallocation/views.py:81: RuntimeWarning: invalid value encountered in matmul\n",
      "  log_p_col - 1.0 - current_lhs.T @ optimal_lagrange_multipliers_col\n"
     ]
    }
   ],
   "source": [
    "# Suppose we think S&P 500 will deliver 2% and GLD 5% annualized return\n",
    "mean_views_1 = {\"SPY\": 0.02/ANNUALIZATION_FACTOR, 'GLD':0.05/ANNUALIZATION_FACTOR}\n",
    "\n",
    "# black litterman\n",
    "bl = BlackLittermanProcessor(\n",
    "    prior_mean=mu_uniform_jorion,\n",
    "    prior_cov=cov_uniform_lw_cc,\n",
    "    mean_views=mean_views_1,\n",
    "    verbose=True\n",
    ")\n",
    "mu_bl, cov_bl = bl.get_posterior()\n",
    "\n",
    "# flexible views (in this case since we're using mean and cov as input, the class will generate simulated scenarios draw from normal distrubiton)\n",
    "fv = FlexibleViewsProcessor(\n",
    "    prior_mean=mu_uniform_jorion,\n",
    "    prior_cov=cov_uniform_lw_cc,\n",
    "    mean_views=mean_views_1,\n",
    ")\n",
    "mu_fv, cov_fv = fv.get_posterior()"
   ]
  },
  {
   "cell_type": "code",
   "execution_count": null,
   "id": "52e1e4b4",
   "metadata": {},
   "outputs": [],
   "source": []
  }
 ],
 "metadata": {
  "kernelspec": {
   "display_name": ".venv",
   "language": "python",
   "name": "python3"
  },
  "language_info": {
   "codemirror_mode": {
    "name": "ipython",
    "version": 3
   },
   "file_extension": ".py",
   "mimetype": "text/x-python",
   "name": "python",
   "nbconvert_exporter": "python",
   "pygments_lexer": "ipython3",
   "version": "3.12.9"
  }
 },
 "nbformat": 4,
 "nbformat_minor": 5
}

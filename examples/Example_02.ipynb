{
 "cells": [
  {
   "cell_type": "code",
   "execution_count": 1,
   "id": "b2ffd8c4",
   "metadata": {},
   "outputs": [
    {
     "ename": "ModuleNotFoundError",
     "evalue": "No module named 'pyvallocation'",
     "output_type": "error",
     "traceback": [
      "\u001b[31m---------------------------------------------------------------------------\u001b[39m",
      "\u001b[31mModuleNotFoundError\u001b[39m                       Traceback (most recent call last)",
      "\u001b[36mCell\u001b[39m\u001b[36m \u001b[39m\u001b[32mIn[1]\u001b[39m\u001b[32m, line 5\u001b[39m\n\u001b[32m      3\u001b[39m \u001b[38;5;28;01mimport\u001b[39;00m\u001b[38;5;250m \u001b[39m\u001b[34;01mmatplotlib\u001b[39;00m\u001b[34;01m.\u001b[39;00m\u001b[34;01mpyplot\u001b[39;00m\u001b[38;5;250m \u001b[39m\u001b[38;5;28;01mas\u001b[39;00m\u001b[38;5;250m \u001b[39m\u001b[34;01mplt\u001b[39;00m\n\u001b[32m      4\u001b[39m \u001b[38;5;28;01mimport\u001b[39;00m\u001b[38;5;250m \u001b[39m\u001b[34;01mos\u001b[39;00m\n\u001b[32m----> \u001b[39m\u001b[32m5\u001b[39m \u001b[38;5;28;01mfrom\u001b[39;00m\u001b[38;5;250m \u001b[39m\u001b[34;01mpyvallocation\u001b[39;00m\u001b[34;01m.\u001b[39;00m\u001b[34;01mviews\u001b[39;00m\u001b[38;5;250m \u001b[39m\u001b[38;5;28;01mimport\u001b[39;00m FlexibleViewsProcessor, BlackLittermanProcessor\n\u001b[32m      6\u001b[39m \u001b[38;5;28;01mfrom\u001b[39;00m\u001b[38;5;250m \u001b[39m\u001b[34;01mpyvallocation\u001b[39;00m\u001b[34;01m.\u001b[39;00m\u001b[34;01mportfolioapi\u001b[39;00m\u001b[38;5;250m \u001b[39m\u001b[38;5;28;01mimport\u001b[39;00m AssetsDistribution, PortfolioWrapper\n\u001b[32m      7\u001b[39m \u001b[38;5;28;01mfrom\u001b[39;00m\u001b[38;5;250m \u001b[39m\u001b[34;01mpyvallocation\u001b[39;00m\u001b[38;5;250m \u001b[39m\u001b[38;5;28;01mimport\u001b[39;00m probabilities, moments\n",
      "\u001b[31mModuleNotFoundError\u001b[39m: No module named 'pyvallocation'"
     ]
    }
   ],
   "source": [
    "import pandas as pd\n",
    "import numpy as np\n",
    "import matplotlib.pyplot as plt\n",
    "import os\n",
    "from pyvallocation.views import FlexibleViewsProcessor, BlackLittermanProcessor\n",
    "from pyvallocation.portfolioapi import AssetsDistribution, PortfolioWrapper\n",
    "from pyvallocation import probabilities, moments\n",
    "os.chdir('..')\n",
    "\n",
    "# load daily close data for some ETFs\n",
    "df = pd.read_csv('examples/ETF_prices.csv',index_col=0,parse_dates=True)\n",
    "print('Loaded ', df.columns)\n",
    "\n",
    "# resample to weekly frequency\n",
    "weekly_prices = df.resample('W').ffill()\n",
    "\n",
    "# compute compounded returns\n",
    "weekly_returns = np.log(weekly_prices).diff().dropna()\n",
    "\n",
    "# store the returns shape\n",
    "T, N = weekly_returns.shape\n",
    "\n",
    "# inputs/parameters\n",
    "ANNUALIZATION_FACTOR = 52\n",
    "HALF_LIFE = ANNUALIZATION_FACTOR * 10 # 10 years"
   ]
  },
  {
   "cell_type": "code",
   "execution_count": null,
   "id": "f8b1ee72",
   "metadata": {},
   "outputs": [
    {
     "name": "stdout",
     "output_type": "stream",
     "text": [
      "Effective number of scenarios of probabilities with uniform dist: 1006.0000000000003\n"
     ]
    }
   ],
   "source": [
    "# generate uniform probabilities\n",
    "p_uniform = probabilities.generate_uniform_probabilities(T)\n",
    "print('Effective number of scenarios of probabilities with uniform dist:', probabilities.compute_effective_number_scenarios(p_uniform))\n",
    "\n",
    "mu_uniform, cov_uniform = moments.estimate_sample_moments(weekly_returns,p_uniform)\n",
    "mu_uniform_jorion = moments.shrink_mean_jorion(mu_uniform,cov_uniform,T)\n",
    "cov_uniform_lw_cc = moments.shrink_covariance_ledoit_wolf(weekly_returns,cov_uniform,target='constant_correlation')"
   ]
  },
  {
   "cell_type": "code",
   "execution_count": null,
   "id": "aa96f723",
   "metadata": {},
   "outputs": [
    {
     "name": "stderr",
     "output_type": "stream",
     "text": [
      "No custom constraints specified, using default ones\n"
     ]
    },
    {
     "data": {
      "text/plain": [
       "array([0.17035479, 0.10075132, 0.23611218, 0.49278171])"
      ]
     },
     "execution_count": 3,
     "metadata": {},
     "output_type": "execute_result"
    }
   ],
   "source": [
    "\n",
    "# Suppose we think S&P 500 will deliver a <2% annualized return in the future\n",
    "fv = FlexibleViewsProcessor(\n",
    "    prior_mean=mu_uniform_jorion,\n",
    "    prior_cov=cov_uniform_lw_cc,\n",
    "    mean_views={(\"SPY\"): (\"<=\", 0.02/ANNUALIZATION_FACTOR)},\n",
    ")\n",
    "mu, cov = fv.get_posterior()\n",
    "\n",
    "# create asset distribution class\n",
    "ad = AssetsDistribution(mu,cov)\n",
    "\n",
    "# initialize portfolio wrapper\n",
    "pw = PortfolioWrapper(ad)\n",
    "pw.get_minrisk_portfolio()"
   ]
  },
  {
   "cell_type": "code",
   "execution_count": 4,
   "id": "cf3a160c",
   "metadata": {},
   "outputs": [
    {
     "data": {
      "text/plain": [
       "np.float64(0.9999999541401108)"
      ]
     },
     "execution_count": 4,
     "metadata": {},
     "output_type": "execute_result"
    }
   ],
   "source": [
    "fv.get_posterior_probabilities().sum()"
   ]
  }
 ],
 "metadata": {
  "kernelspec": {
   "display_name": ".venv",
   "language": "python",
   "name": "python3"
  },
  "language_info": {
   "codemirror_mode": {
    "name": "ipython",
    "version": 3
   },
   "file_extension": ".py",
   "mimetype": "text/x-python",
   "name": "python",
   "nbconvert_exporter": "python",
   "pygments_lexer": "ipython3",
   "version": "3.11.4"
  }
 },
 "nbformat": 4,
 "nbformat_minor": 5
}

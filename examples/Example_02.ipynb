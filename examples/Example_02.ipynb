{
 "cells": [
  {
   "cell_type": "code",
   "execution_count": 1,
   "id": "b2ffd8c4",
   "metadata": {},
   "outputs": [
    {
     "name": "stdout",
     "output_type": "stream",
     "text": [
      "Loaded  Index(['DBC', 'GLD', 'SPY', 'TLT'], dtype='object')\n"
     ]
    }
   ],
   "source": [
    "import pandas as pd\n",
    "import numpy as np\n",
    "import matplotlib.pyplot as plt\n",
    "import os\n",
    "os.chdir('..')\n",
    "\n",
    "# load daily close data for some ETFs\n",
    "df = pd.read_csv('examples/ETF_prices.csv',index_col=0,parse_dates=True)\n",
    "print('Loaded ', df.columns)\n",
    "\n",
    "# resample to weekly frequency\n",
    "weekly_prices = df.resample('W').ffill()\n",
    "\n",
    "# compute compounded returns\n",
    "weekly_returns = np.log(weekly_prices).diff().dropna()\n",
    "\n",
    "# store the returns shape\n",
    "T, N = weekly_returns.shape\n",
    "\n",
    "# inputs/parameters\n",
    "ANNUALIZATION_FACTOR = 52\n",
    "HALF_LIFE = ANNUALIZATION_FACTOR * 10 # 10 years"
   ]
  },
  {
   "cell_type": "code",
   "execution_count": 2,
   "id": "f8b1ee72",
   "metadata": {},
   "outputs": [
    {
     "name": "stdout",
     "output_type": "stream",
     "text": [
      "Effective number of scenarios of probabilities with uniform dist: 1006.0000000000003\n"
     ]
    }
   ],
   "source": [
    "from pyvallocation import probabilities\n",
    "from pyvallocation import moments\n",
    "\n",
    "# generate uniform probabilities\n",
    "p_uniform = probabilities.generate_uniform_probabilities(T)\n",
    "print('Effective number of scenarios of probabilities with uniform dist:', probabilities.compute_effective_number_scenarios(p_uniform))\n",
    "\n",
    "mu_uniform, cov_uniform = moments.estimate_sample_moments(weekly_returns,p_uniform)\n",
    "mu_uniform_jorion = moments.shrink_mean_jorion(mu_uniform,cov_uniform,T)\n",
    "cov_uniform_lw_cc = moments.shrink_covariance_ledoit_wolf(weekly_returns,cov_uniform,target='constant_correlation')"
   ]
  },
  {
   "cell_type": "code",
   "execution_count": 3,
   "id": "aa96f723",
   "metadata": {},
   "outputs": [
    {
     "data": {
      "text/plain": [
       "DBC    0.008065\n",
       "GLD    0.024047\n",
       "SPY    0.020000\n",
       "TLT    0.010423\n",
       "dtype: float64"
      ]
     },
     "execution_count": 3,
     "metadata": {},
     "output_type": "execute_result"
    }
   ],
   "source": [
    "from pyvallocation.views import FlexibleViewsProcessor, BlackLittermanProcessor\n",
    "\n",
    "# Suppose we think S&P 500 will deliver a <2% annualized return in the future\n",
    "fv = FlexibleViewsProcessor(\n",
    "    prior_mean=mu_uniform_jorion,\n",
    "    prior_cov=cov_uniform_lw_cc,\n",
    "    # prior_returns=weekly_returns,\n",
    "    # prior_probabilities=p_uniform,\n",
    "    mean_views={(\"SPY\"): (\"<=\", 0.02/ANNUALIZATION_FACTOR)},\n",
    "    # corr_views={('SPY','GLD'):-0.2}\n",
    "    # mean_views={'SPY':0.02/(ANNUALIZATION_FACTOR)}\n",
    "    # mean_views=np.array([0.02,0.05,0.1,0.02])/ANNUALIZATION_FACTOR\n",
    ")\n",
    "(fv.get_posterior()[0]*ANNUALIZATION_FACTOR)"
   ]
  }
 ],
 "metadata": {
  "kernelspec": {
   "display_name": ".venv",
   "language": "python",
   "name": "python3"
  },
  "language_info": {
   "codemirror_mode": {
    "name": "ipython",
    "version": 3
   },
   "file_extension": ".py",
   "mimetype": "text/x-python",
   "name": "python",
   "nbconvert_exporter": "python",
   "pygments_lexer": "ipython3",
   "version": "3.11.4"
  }
 },
 "nbformat": 4,
 "nbformat_minor": 5
}
